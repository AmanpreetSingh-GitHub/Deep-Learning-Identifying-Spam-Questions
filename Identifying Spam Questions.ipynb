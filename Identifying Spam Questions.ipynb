{
  "nbformat": 4,
  "nbformat_minor": 0,
  "metadata": {
    "colab": {
      "name": "Identifying Spam Questions.ipynb",
      "provenance": [],
      "collapsed_sections": [],
      "authorship_tag": "ABX9TyMQPS31GKSKpjujhqNev1r3",
      "include_colab_link": true
    },
    "kernelspec": {
      "name": "python3",
      "display_name": "Python 3"
    },
    "language_info": {
      "name": "python"
    },
    "accelerator": "GPU"
  },
  "cells": [
    {
      "cell_type": "markdown",
      "metadata": {
        "id": "view-in-github",
        "colab_type": "text"
      },
      "source": [
        "<a href=\"https://colab.research.google.com/github/AmanpreetSingh-GitHub/Deep-Learning---Identifying-Spam-Questions/blob/main/Identifying%20Spam%20Questions.ipynb\" target=\"_parent\"><img src=\"https://colab.research.google.com/assets/colab-badge.svg\" alt=\"Open In Colab\"/></a>"
      ]
    },
    {
      "cell_type": "markdown",
      "metadata": {
        "id": "KiW-ii3YOQVz"
      },
      "source": [
        "**Import required libraries**"
      ]
    },
    {
      "cell_type": "code",
      "metadata": {
        "colab": {
          "base_uri": "https://localhost:8080/"
        },
        "id": "uuNz-kioLv90",
        "outputId": "aef1e999-2438-4f2e-9232-5fe1ddcbee74"
      },
      "source": [
        "import pandas as pd\n",
        "import numpy as np\n",
        "from sklearn.model_selection import train_test_split\n",
        "\n",
        "from nltk import word_tokenize\n",
        "import nltk\n",
        "nltk.download('punkt')\n",
        "\n",
        "from tensorflow.keras.preprocessing.text import Tokenizer\n",
        "from tensorflow.keras.preprocessing import sequence\n",
        "from tensorflow.keras.layers import LSTM, Activation, Dense, Input, Embedding, Dropout\n",
        "from tensorflow.keras.models import Model\n",
        "\n",
        "from sklearn.metrics import roc_auc_score"
      ],
      "execution_count": 1,
      "outputs": [
        {
          "output_type": "stream",
          "name": "stdout",
          "text": [
            "[nltk_data] Downloading package punkt to /root/nltk_data...\n",
            "[nltk_data]   Unzipping tokenizers/punkt.zip.\n"
          ]
        }
      ]
    },
    {
      "cell_type": "markdown",
      "metadata": {
        "id": "e8BaXEjvM-3X"
      },
      "source": [
        "**Download the data from dropbox**"
      ]
    },
    {
      "cell_type": "code",
      "metadata": {
        "colab": {
          "base_uri": "https://localhost:8080/"
        },
        "id": "-vXNhaoDJ1PX",
        "outputId": "9efd8040-4fe2-4d5e-cdce-fd0e242b82a7"
      },
      "source": [
        "!wget https://www.dropbox.com/sh/kpf9z73woodfssv/AAAw1_JIzpuVvwteJCma0xMla?dl=0"
      ],
      "execution_count": 2,
      "outputs": [
        {
          "output_type": "stream",
          "name": "stdout",
          "text": [
            "--2021-10-11 09:41:25--  https://www.dropbox.com/sh/kpf9z73woodfssv/AAAw1_JIzpuVvwteJCma0xMla?dl=0\n",
            "Resolving www.dropbox.com (www.dropbox.com)... 162.125.3.18, 2620:100:601b:18::a27d:812\n",
            "Connecting to www.dropbox.com (www.dropbox.com)|162.125.3.18|:443... connected.\n",
            "HTTP request sent, awaiting response... 301 Moved Permanently\n",
            "Location: /sh/raw/kpf9z73woodfssv/AAAw1_JIzpuVvwteJCma0xMla [following]\n",
            "--2021-10-11 09:41:26--  https://www.dropbox.com/sh/raw/kpf9z73woodfssv/AAAw1_JIzpuVvwteJCma0xMla\n",
            "Reusing existing connection to www.dropbox.com:443.\n",
            "HTTP request sent, awaiting response... 302 Found\n",
            "Location: https://uc61c79043a2bc095df9442e8813.dl.dropboxusercontent.com/zip_download_get/A7Oko6gRXTTN1vBHBbGVWJyX0PrbtivfBftlLQ7HjFGA7M9Q1tBn1B9MiY_ua5sn0RJlpkB-cfwYimd1c26vhYyVtrKWbqCb6cFssw38NGaBog# [following]\n",
            "--2021-10-11 09:41:26--  https://uc61c79043a2bc095df9442e8813.dl.dropboxusercontent.com/zip_download_get/A7Oko6gRXTTN1vBHBbGVWJyX0PrbtivfBftlLQ7HjFGA7M9Q1tBn1B9MiY_ua5sn0RJlpkB-cfwYimd1c26vhYyVtrKWbqCb6cFssw38NGaBog\n",
            "Resolving uc61c79043a2bc095df9442e8813.dl.dropboxusercontent.com (uc61c79043a2bc095df9442e8813.dl.dropboxusercontent.com)... 162.125.3.15, 2620:100:601b:15::a27d:80f\n",
            "Connecting to uc61c79043a2bc095df9442e8813.dl.dropboxusercontent.com (uc61c79043a2bc095df9442e8813.dl.dropboxusercontent.com)|162.125.3.15|:443... connected.\n",
            "HTTP request sent, awaiting response... 200 OK\n",
            "Length: 124206982 (118M) [application/zip]\n",
            "Saving to: ‘AAAw1_JIzpuVvwteJCma0xMla?dl=0’\n",
            "\n",
            "AAAw1_JIzpuVvwteJCm 100%[===================>] 118.45M  65.1MB/s    in 1.8s    \n",
            "\n",
            "2021-10-11 09:41:29 (65.1 MB/s) - ‘AAAw1_JIzpuVvwteJCma0xMla?dl=0’ saved [124206982/124206982]\n",
            "\n"
          ]
        }
      ]
    },
    {
      "cell_type": "markdown",
      "metadata": {
        "id": "pSnTpDdyNWU6"
      },
      "source": [
        "**Read the data**"
      ]
    },
    {
      "cell_type": "code",
      "metadata": {
        "id": "_mligJSrLqpu"
      },
      "source": [
        "fs_data = pd.read_csv(r'/content/AAAw1_JIzpuVvwteJCma0xMla?dl=0', sep = ',', encoding = 'latin-1')"
      ],
      "execution_count": 3,
      "outputs": []
    },
    {
      "cell_type": "code",
      "metadata": {
        "colab": {
          "base_uri": "https://localhost:8080/",
          "height": 419
        },
        "id": "W7PW8f6gL2Bg",
        "outputId": "d833c921-c4d2-4367-85ed-ae8e00d60ff6"
      },
      "source": [
        "fs_data"
      ],
      "execution_count": 4,
      "outputs": [
        {
          "output_type": "execute_result",
          "data": {
            "text/html": [
              "<div>\n",
              "<style scoped>\n",
              "    .dataframe tbody tr th:only-of-type {\n",
              "        vertical-align: middle;\n",
              "    }\n",
              "\n",
              "    .dataframe tbody tr th {\n",
              "        vertical-align: top;\n",
              "    }\n",
              "\n",
              "    .dataframe thead th {\n",
              "        text-align: right;\n",
              "    }\n",
              "</style>\n",
              "<table border=\"1\" class=\"dataframe\">\n",
              "  <thead>\n",
              "    <tr style=\"text-align: right;\">\n",
              "      <th></th>\n",
              "      <th>PK\u0003\u0004\u0014</th>\n",
              "      <th>question_text</th>\n",
              "      <th>target</th>\n",
              "    </tr>\n",
              "  </thead>\n",
              "  <tbody>\n",
              "    <tr>\n",
              "      <th>0</th>\n",
              "      <td>00002165364db923c7e6</td>\n",
              "      <td>How did Quebec nationalists see their province...</td>\n",
              "      <td>0.0</td>\n",
              "    </tr>\n",
              "    <tr>\n",
              "      <th>1</th>\n",
              "      <td>000032939017120e6e44</td>\n",
              "      <td>Do you have an adopted dog, how would you enco...</td>\n",
              "      <td>0.0</td>\n",
              "    </tr>\n",
              "    <tr>\n",
              "      <th>2</th>\n",
              "      <td>0000412ca6e4628ce2cf</td>\n",
              "      <td>Why does velocity affect time? Does velocity a...</td>\n",
              "      <td>0.0</td>\n",
              "    </tr>\n",
              "    <tr>\n",
              "      <th>3</th>\n",
              "      <td>000042bf85aa498cd78e</td>\n",
              "      <td>How did Otto von Guericke used the Magdeburg h...</td>\n",
              "      <td>0.0</td>\n",
              "    </tr>\n",
              "    <tr>\n",
              "      <th>4</th>\n",
              "      <td>0000455dfa3e01eae3af</td>\n",
              "      <td>Can I convert montra helicon D to a mountain b...</td>\n",
              "      <td>0.0</td>\n",
              "    </tr>\n",
              "    <tr>\n",
              "      <th>...</th>\n",
              "      <td>...</td>\n",
              "      <td>...</td>\n",
              "      <td>...</td>\n",
              "    </tr>\n",
              "    <tr>\n",
              "      <th>1306119</th>\n",
              "      <td>ffffd48fb36b63db010c</td>\n",
              "      <td>Is foam insulation toxic?</td>\n",
              "      <td>0.0</td>\n",
              "    </tr>\n",
              "    <tr>\n",
              "      <th>1306120</th>\n",
              "      <td>ffffec519fa37cf60c78</td>\n",
              "      <td>How can one start a research project based on ...</td>\n",
              "      <td>0.0</td>\n",
              "    </tr>\n",
              "    <tr>\n",
              "      <th>1306121</th>\n",
              "      <td>ffffed09fedb5088744a</td>\n",
              "      <td>Who wins in a battle between a Wolverine and a...</td>\n",
              "      <td>0.0</td>\n",
              "    </tr>\n",
              "    <tr>\n",
              "      <th>1306122</th>\n",
              "      <td>PK\u0007\bÐÞ¾±´&gt;g\u0007´&gt;g\u0007PK\u0001\u0002\u0014\u0003\u0014</td>\n",
              "      <td>NaN</td>\n",
              "      <td>NaN</td>\n",
              "    </tr>\n",
              "    <tr>\n",
              "      <th>1306123</th>\n",
              "      <td>?g\u0007</td>\n",
              "      <td>NaN</td>\n",
              "      <td>NaN</td>\n",
              "    </tr>\n",
              "  </tbody>\n",
              "</table>\n",
              "<p>1306124 rows × 3 columns</p>\n",
              "</div>"
            ],
            "text/plain": [
              "                           PK\u0003\u0004\u0014  ... target\n",
              "0           00002165364db923c7e6  ...    0.0\n",
              "1           000032939017120e6e44  ...    0.0\n",
              "2           0000412ca6e4628ce2cf  ...    0.0\n",
              "3           000042bf85aa498cd78e  ...    0.0\n",
              "4           0000455dfa3e01eae3af  ...    0.0\n",
              "...                          ...  ...    ...\n",
              "1306119     ffffd48fb36b63db010c  ...    0.0\n",
              "1306120     ffffec519fa37cf60c78  ...    0.0\n",
              "1306121     ffffed09fedb5088744a  ...    0.0\n",
              "1306122  PK\u0007\bÐÞ¾±´>g\u0007´>g\u0007PK\u0001\u0002\u0014\u0003\u0014  ...    NaN\n",
              "1306123                      ?g\u0007  ...    NaN\n",
              "\n",
              "[1306124 rows x 3 columns]"
            ]
          },
          "metadata": {},
          "execution_count": 4
        }
      ]
    },
    {
      "cell_type": "markdown",
      "metadata": {
        "id": "6MIVOKuoPEXq"
      },
      "source": [
        "**Explore and Clean the data**"
      ]
    },
    {
      "cell_type": "markdown",
      "metadata": {
        "id": "Eyu_dZsWwv7e"
      },
      "source": [
        "Removing NA columns"
      ]
    },
    {
      "cell_type": "code",
      "metadata": {
        "colab": {
          "base_uri": "https://localhost:8080/"
        },
        "id": "SDLcoECRO9zQ",
        "outputId": "76bcdb14-a43b-421c-c228-85b25040385e"
      },
      "source": [
        "fs_data.isnull().sum()"
      ],
      "execution_count": 5,
      "outputs": [
        {
          "output_type": "execute_result",
          "data": {
            "text/plain": [
              "PK\u0003\u0004\u0014            0\n",
              "question_text    2\n",
              "target           2\n",
              "dtype: int64"
            ]
          },
          "metadata": {},
          "execution_count": 5
        }
      ]
    },
    {
      "cell_type": "code",
      "metadata": {
        "id": "l1hipDFiPt2g"
      },
      "source": [
        "fs_data.dropna(inplace=True)"
      ],
      "execution_count": 6,
      "outputs": []
    },
    {
      "cell_type": "code",
      "metadata": {
        "colab": {
          "base_uri": "https://localhost:8080/"
        },
        "id": "B-zaGwrIPwgk",
        "outputId": "36f9800c-0e1a-44c7-b3ef-d42a1664ce5c"
      },
      "source": [
        "fs_data.isnull().sum()"
      ],
      "execution_count": 7,
      "outputs": [
        {
          "output_type": "execute_result",
          "data": {
            "text/plain": [
              "PK\u0003\u0004\u0014            0\n",
              "question_text    0\n",
              "target           0\n",
              "dtype: int64"
            ]
          },
          "metadata": {},
          "execution_count": 7
        }
      ]
    },
    {
      "cell_type": "markdown",
      "metadata": {
        "id": "8TgIvm-rwyOa"
      },
      "source": [
        "Renaming columns and removing unnecessary column PK"
      ]
    },
    {
      "cell_type": "code",
      "metadata": {
        "id": "qmSxC0nkvYbd"
      },
      "source": [
        "fs_data.columns = ['PK', 'question_text', 'target']"
      ],
      "execution_count": 8,
      "outputs": []
    },
    {
      "cell_type": "code",
      "metadata": {
        "id": "yimgPqJRPyYq"
      },
      "source": [
        "fs_data.drop(['PK'], axis = 1, inplace = True)"
      ],
      "execution_count": 9,
      "outputs": []
    },
    {
      "cell_type": "code",
      "metadata": {
        "colab": {
          "base_uri": "https://localhost:8080/",
          "height": 419
        },
        "id": "NLWgzNPnix8A",
        "outputId": "3dc362c2-9ada-4088-d3a5-a1cba9df40b3"
      },
      "source": [
        "fs_data"
      ],
      "execution_count": 10,
      "outputs": [
        {
          "output_type": "execute_result",
          "data": {
            "text/html": [
              "<div>\n",
              "<style scoped>\n",
              "    .dataframe tbody tr th:only-of-type {\n",
              "        vertical-align: middle;\n",
              "    }\n",
              "\n",
              "    .dataframe tbody tr th {\n",
              "        vertical-align: top;\n",
              "    }\n",
              "\n",
              "    .dataframe thead th {\n",
              "        text-align: right;\n",
              "    }\n",
              "</style>\n",
              "<table border=\"1\" class=\"dataframe\">\n",
              "  <thead>\n",
              "    <tr style=\"text-align: right;\">\n",
              "      <th></th>\n",
              "      <th>question_text</th>\n",
              "      <th>target</th>\n",
              "    </tr>\n",
              "  </thead>\n",
              "  <tbody>\n",
              "    <tr>\n",
              "      <th>0</th>\n",
              "      <td>How did Quebec nationalists see their province...</td>\n",
              "      <td>0.0</td>\n",
              "    </tr>\n",
              "    <tr>\n",
              "      <th>1</th>\n",
              "      <td>Do you have an adopted dog, how would you enco...</td>\n",
              "      <td>0.0</td>\n",
              "    </tr>\n",
              "    <tr>\n",
              "      <th>2</th>\n",
              "      <td>Why does velocity affect time? Does velocity a...</td>\n",
              "      <td>0.0</td>\n",
              "    </tr>\n",
              "    <tr>\n",
              "      <th>3</th>\n",
              "      <td>How did Otto von Guericke used the Magdeburg h...</td>\n",
              "      <td>0.0</td>\n",
              "    </tr>\n",
              "    <tr>\n",
              "      <th>4</th>\n",
              "      <td>Can I convert montra helicon D to a mountain b...</td>\n",
              "      <td>0.0</td>\n",
              "    </tr>\n",
              "    <tr>\n",
              "      <th>...</th>\n",
              "      <td>...</td>\n",
              "      <td>...</td>\n",
              "    </tr>\n",
              "    <tr>\n",
              "      <th>1306117</th>\n",
              "      <td>What other technical skills do you need as a c...</td>\n",
              "      <td>0.0</td>\n",
              "    </tr>\n",
              "    <tr>\n",
              "      <th>1306118</th>\n",
              "      <td>Does MS in ECE have good job prospects in USA ...</td>\n",
              "      <td>0.0</td>\n",
              "    </tr>\n",
              "    <tr>\n",
              "      <th>1306119</th>\n",
              "      <td>Is foam insulation toxic?</td>\n",
              "      <td>0.0</td>\n",
              "    </tr>\n",
              "    <tr>\n",
              "      <th>1306120</th>\n",
              "      <td>How can one start a research project based on ...</td>\n",
              "      <td>0.0</td>\n",
              "    </tr>\n",
              "    <tr>\n",
              "      <th>1306121</th>\n",
              "      <td>Who wins in a battle between a Wolverine and a...</td>\n",
              "      <td>0.0</td>\n",
              "    </tr>\n",
              "  </tbody>\n",
              "</table>\n",
              "<p>1306122 rows × 2 columns</p>\n",
              "</div>"
            ],
            "text/plain": [
              "                                             question_text  target\n",
              "0        How did Quebec nationalists see their province...     0.0\n",
              "1        Do you have an adopted dog, how would you enco...     0.0\n",
              "2        Why does velocity affect time? Does velocity a...     0.0\n",
              "3        How did Otto von Guericke used the Magdeburg h...     0.0\n",
              "4        Can I convert montra helicon D to a mountain b...     0.0\n",
              "...                                                    ...     ...\n",
              "1306117  What other technical skills do you need as a c...     0.0\n",
              "1306118  Does MS in ECE have good job prospects in USA ...     0.0\n",
              "1306119                          Is foam insulation toxic?     0.0\n",
              "1306120  How can one start a research project based on ...     0.0\n",
              "1306121  Who wins in a battle between a Wolverine and a...     0.0\n",
              "\n",
              "[1306122 rows x 2 columns]"
            ]
          },
          "metadata": {},
          "execution_count": 10
        }
      ]
    },
    {
      "cell_type": "markdown",
      "metadata": {
        "id": "JMCVLer_xArS"
      },
      "source": [
        "**Downloading GloVe: Global Vectors for Word Representation**\n",
        "\n",
        "GloVe is an unsupervised learning algorithm for obtaining vector representations for words."
      ]
    },
    {
      "cell_type": "markdown",
      "metadata": {
        "id": "bExzokssxR72"
      },
      "source": [
        "Download GloVe, unzip it and remove unnecessary temp files"
      ]
    },
    {
      "cell_type": "code",
      "metadata": {
        "colab": {
          "base_uri": "https://localhost:8080/"
        },
        "id": "Dd03o4gmxEV9",
        "outputId": "8baf6b4a-35d2-4fb0-8630-fb3708cf17a9"
      },
      "source": [
        "!wget http://nlp.stanford.edu/data/glove.42B.300d.zip\n",
        "!unzip /content/glove.42B.300d.zip \n",
        "!rm /content/glove.42B.300d.zip"
      ],
      "execution_count": 11,
      "outputs": [
        {
          "output_type": "stream",
          "name": "stdout",
          "text": [
            "--2021-10-11 09:42:45--  http://nlp.stanford.edu/data/glove.42B.300d.zip\n",
            "Resolving nlp.stanford.edu (nlp.stanford.edu)... 171.64.67.140\n",
            "Connecting to nlp.stanford.edu (nlp.stanford.edu)|171.64.67.140|:80... connected.\n",
            "HTTP request sent, awaiting response... 302 Found\n",
            "Location: https://nlp.stanford.edu/data/glove.42B.300d.zip [following]\n",
            "--2021-10-11 09:42:45--  https://nlp.stanford.edu/data/glove.42B.300d.zip\n",
            "Connecting to nlp.stanford.edu (nlp.stanford.edu)|171.64.67.140|:443... connected.\n",
            "HTTP request sent, awaiting response... 301 Moved Permanently\n",
            "Location: http://downloads.cs.stanford.edu/nlp/data/glove.42B.300d.zip [following]\n",
            "--2021-10-11 09:42:46--  http://downloads.cs.stanford.edu/nlp/data/glove.42B.300d.zip\n",
            "Resolving downloads.cs.stanford.edu (downloads.cs.stanford.edu)... 171.64.64.22\n",
            "Connecting to downloads.cs.stanford.edu (downloads.cs.stanford.edu)|171.64.64.22|:80... connected.\n",
            "HTTP request sent, awaiting response... 200 OK\n",
            "Length: 1877800501 (1.7G) [application/zip]\n",
            "Saving to: ‘glove.42B.300d.zip’\n",
            "\n",
            "glove.42B.300d.zip  100%[===================>]   1.75G  5.33MB/s    in 5m 55s  \n",
            "\n",
            "2021-10-11 09:48:41 (5.05 MB/s) - ‘glove.42B.300d.zip’ saved [1877800501/1877800501]\n",
            "\n",
            "Archive:  /content/glove.42B.300d.zip\n",
            "  inflating: glove.42B.300d.txt      \n"
          ]
        }
      ]
    },
    {
      "cell_type": "markdown",
      "metadata": {
        "id": "vLpG5uxSX6XO"
      },
      "source": [
        "Reading the GloVe embedding"
      ]
    },
    {
      "cell_type": "code",
      "metadata": {
        "id": "X_dcNwyUX3aU"
      },
      "source": [
        "embedding_word_coeff = {}\n",
        "\n",
        "f = open('glove.42B.300d.txt',encoding='utf-8')\n",
        "\n",
        "for line in f:\n",
        "    values = line.split()\n",
        "    word = values[0]\n",
        "    coefs = np.asarray(values[1:], dtype = 'float32')\n",
        "    embedding_word_coeff[word] = coefs\n",
        "\n",
        "f.close()"
      ],
      "execution_count": 12,
      "outputs": []
    },
    {
      "cell_type": "markdown",
      "metadata": {
        "id": "TiTy9rhtfGDf"
      },
      "source": [
        "**Split the data into train and validation, and tokenize it**"
      ]
    },
    {
      "cell_type": "code",
      "metadata": {
        "id": "fyFW0C5qiA2U"
      },
      "source": [
        "data_train, data_test = train_test_split(fs_data, test_size = 0.2)\n",
        "  \n",
        "x_train = data_train['question_text']\n",
        "y_train = data_train['target']\n",
        "x_test = data_test['question_text']\n",
        "y_test = data_test['target']"
      ],
      "execution_count": 13,
      "outputs": []
    },
    {
      "cell_type": "code",
      "metadata": {
        "id": "ayifxvAdi8tN"
      },
      "source": [
        "sentence_length = [len(word_tokenize(x)) for x in x_train]"
      ],
      "execution_count": 14,
      "outputs": []
    },
    {
      "cell_type": "code",
      "metadata": {
        "colab": {
          "base_uri": "https://localhost:8080/"
        },
        "id": "k-RayyBvlH1Q",
        "outputId": "3409610c-2e81-4f7d-d4a4-c7c10611cafb"
      },
      "source": [
        "print(np.percentile(sentence_length, 95))\n",
        "print(np.percentile(sentence_length, 96))\n",
        "print(np.percentile(sentence_length, 97))\n",
        "print(np.percentile(sentence_length, 98))\n",
        "print(np.percentile(sentence_length, 99))"
      ],
      "execution_count": 15,
      "outputs": [
        {
          "output_type": "stream",
          "name": "stdout",
          "text": [
            "30.0\n",
            "32.0\n",
            "35.0\n",
            "39.0\n",
            "44.0\n"
          ]
        }
      ]
    },
    {
      "cell_type": "code",
      "metadata": {
        "id": "Z6wxjwxGla7Z"
      },
      "source": [
        "maximum_sentence_length = 44\n",
        "\n",
        "tk = Tokenizer(char_level = False, split = ' ')\n",
        "\n",
        "tk.fit_on_texts(x_train)\n",
        "\n",
        "sequence_train = tk.texts_to_sequences(x_train)\n",
        "sequence_test = tk.texts_to_sequences(x_test)\n",
        "\n",
        "vocabulary_size = len(tk.word_index)\n",
        "\n",
        "sequence_train_matrix = sequence.pad_sequences(sequence_train, maxlen=maximum_sentence_length)\n",
        "sequence_test_matrix = sequence.pad_sequences(sequence_test, maxlen = maximum_sentence_length)"
      ],
      "execution_count": 16,
      "outputs": []
    },
    {
      "cell_type": "markdown",
      "metadata": {
        "id": "FxzzzbDvt9Qf"
      },
      "source": [
        "Creating our own custom embedding matrix to bring down the size to 300. If there are specific words which are not present in pretrained embedding their weights will remain 0"
      ]
    },
    {
      "cell_type": "code",
      "metadata": {
        "id": "_AE_-aYwtzCa"
      },
      "source": [
        "custom_embedding_matrix = np.zeros((vocabulary_size + 1, 300))\n",
        "\n",
        "for word, index in tk.word_index.items():\n",
        "    embedding_vector = embedding_word_coeff.get(word)\n",
        "    if embedding_vector is not None:\n",
        "        custom_embedding_matrix[index] = embedding_vector"
      ],
      "execution_count": 18,
      "outputs": []
    },
    {
      "cell_type": "markdown",
      "metadata": {
        "id": "7PwrxmUbuo3w"
      },
      "source": [
        "**Creating Long Short-Term Memory (LSTM) Model**"
      ]
    },
    {
      "cell_type": "code",
      "metadata": {
        "id": "sTn8-lAQwyRi"
      },
      "source": [
        "input_to_model = Input(name = 'text_input', shape = [maximum_sentence_length])\n",
        "\n",
        "embedding = Embedding(vocabulary_size + 1, \n",
        "                      300, \n",
        "                      input_length = maximum_sentence_length, \n",
        "                      mask_zero = True, \n",
        "                      weights = [custom_embedding_matrix],\n",
        "                      trainable = False)(input_to_model)\n",
        "\n",
        "first_lstm_layer = LSTM(512)(embedding)\n",
        "first_dropout = Dropout(0.2)(first_lstm_layer)\n",
        "\n",
        "second_lstm_layer = Dense(256, activation='relu')(first_dropout)\n",
        "second_dropout = Dropout(0.2)(second_lstm_layer)\n",
        "\n",
        "third_lstm_layer = Dense(128, activation='relu')(second_dropout)\n",
        "third_dropout = Dropout(0.2)(third_lstm_layer)\n",
        "\n",
        "fourth_lstm_layer = Dense(25, activation='relu')(third_dropout)\n",
        "fourth_dropout = Dropout(0.2)(fourth_lstm_layer)\n",
        "\n",
        "output_layer = Dense(1, activation = 'sigmoid')(fourth_dropout)\n",
        "\n",
        "lstmModel = Model(inputs = input_to_model, outputs = output_layer)"
      ],
      "execution_count": 20,
      "outputs": []
    },
    {
      "cell_type": "code",
      "metadata": {
        "id": "tiAXsj0N0Drm",
        "colab": {
          "base_uri": "https://localhost:8080/"
        },
        "outputId": "d4f44bcc-6974-42c9-ed88-1c66b44e736e"
      },
      "source": [
        "lstmModel.summary()"
      ],
      "execution_count": 21,
      "outputs": [
        {
          "output_type": "stream",
          "name": "stdout",
          "text": [
            "Model: \"model\"\n",
            "_________________________________________________________________\n",
            "Layer (type)                 Output Shape              Param #   \n",
            "=================================================================\n",
            "text_input (InputLayer)      [(None, 44)]              0         \n",
            "_________________________________________________________________\n",
            "embedding (Embedding)        (None, 44, 300)           58855800  \n",
            "_________________________________________________________________\n",
            "lstm (LSTM)                  (None, 512)               1665024   \n",
            "_________________________________________________________________\n",
            "dropout (Dropout)            (None, 512)               0         \n",
            "_________________________________________________________________\n",
            "dense (Dense)                (None, 256)               131328    \n",
            "_________________________________________________________________\n",
            "dropout_1 (Dropout)          (None, 256)               0         \n",
            "_________________________________________________________________\n",
            "dense_1 (Dense)              (None, 128)               32896     \n",
            "_________________________________________________________________\n",
            "dropout_2 (Dropout)          (None, 128)               0         \n",
            "_________________________________________________________________\n",
            "dense_2 (Dense)              (None, 25)                3225      \n",
            "_________________________________________________________________\n",
            "dropout_3 (Dropout)          (None, 25)                0         \n",
            "_________________________________________________________________\n",
            "dense_3 (Dense)              (None, 1)                 26        \n",
            "=================================================================\n",
            "Total params: 60,688,299\n",
            "Trainable params: 1,832,499\n",
            "Non-trainable params: 58,855,800\n",
            "_________________________________________________________________\n"
          ]
        }
      ]
    },
    {
      "cell_type": "code",
      "metadata": {
        "id": "AkWAN-Ac0F01"
      },
      "source": [
        "lstmModel.compile(optimizer='adam', loss='binary_crossentropy', metrics=['accuracy'])"
      ],
      "execution_count": 22,
      "outputs": []
    },
    {
      "cell_type": "code",
      "metadata": {
        "id": "SdHguvc5Dcqw",
        "colab": {
          "base_uri": "https://localhost:8080/"
        },
        "outputId": "85c4acc5-e357-4221-ea72-3997a050cd34"
      },
      "source": [
        "lstmModel.fit(sequence_train_matrix,\n",
        "          y_train,\n",
        "          epochs = 14,\n",
        "          batch_size = 800,\n",
        "          validation_data = (sequence_test_matrix, \n",
        "                             y_test)\n",
        "          )"
      ],
      "execution_count": 23,
      "outputs": [
        {
          "output_type": "stream",
          "name": "stdout",
          "text": [
            "Epoch 1/14\n",
            "1307/1307 [==============================] - 409s 307ms/step - loss: 0.1215 - accuracy: 0.9532 - val_loss: 0.1088 - val_accuracy: 0.9569\n",
            "Epoch 2/14\n",
            "1307/1307 [==============================] - 401s 307ms/step - loss: 0.1054 - accuracy: 0.9586 - val_loss: 0.1076 - val_accuracy: 0.9583\n",
            "Epoch 3/14\n",
            "1307/1307 [==============================] - 399s 305ms/step - loss: 0.0987 - accuracy: 0.9608 - val_loss: 0.1044 - val_accuracy: 0.9564\n",
            "Epoch 4/14\n",
            "1307/1307 [==============================] - 399s 305ms/step - loss: 0.0922 - accuracy: 0.9629 - val_loss: 0.1010 - val_accuracy: 0.9601\n",
            "Epoch 5/14\n",
            "1307/1307 [==============================] - 400s 306ms/step - loss: 0.0848 - accuracy: 0.9652 - val_loss: 0.1029 - val_accuracy: 0.9597\n",
            "Epoch 6/14\n",
            "1307/1307 [==============================] - 402s 307ms/step - loss: 0.0757 - accuracy: 0.9682 - val_loss: 0.1120 - val_accuracy: 0.9593\n",
            "Epoch 7/14\n",
            "1307/1307 [==============================] - 401s 307ms/step - loss: 0.0653 - accuracy: 0.9723 - val_loss: 0.1189 - val_accuracy: 0.9575\n",
            "Epoch 8/14\n",
            "1307/1307 [==============================] - 399s 305ms/step - loss: 0.0548 - accuracy: 0.9770 - val_loss: 0.1443 - val_accuracy: 0.9563\n",
            "Epoch 9/14\n",
            "1307/1307 [==============================] - 402s 307ms/step - loss: 0.0449 - accuracy: 0.9812 - val_loss: 0.1637 - val_accuracy: 0.9567\n",
            "Epoch 10/14\n",
            "1307/1307 [==============================] - 401s 307ms/step - loss: 0.0367 - accuracy: 0.9849 - val_loss: 0.1903 - val_accuracy: 0.9563\n",
            "Epoch 11/14\n",
            "1307/1307 [==============================] - 402s 308ms/step - loss: 0.0299 - accuracy: 0.9880 - val_loss: 0.2384 - val_accuracy: 0.9560\n",
            "Epoch 12/14\n",
            "1307/1307 [==============================] - 402s 308ms/step - loss: 0.0248 - accuracy: 0.9903 - val_loss: 0.2342 - val_accuracy: 0.9551\n",
            "Epoch 13/14\n",
            "1307/1307 [==============================] - 404s 309ms/step - loss: 0.0204 - accuracy: 0.9921 - val_loss: 0.2584 - val_accuracy: 0.9556\n",
            "Epoch 14/14\n",
            "1307/1307 [==============================] - 403s 308ms/step - loss: 0.0171 - accuracy: 0.9935 - val_loss: 0.3020 - val_accuracy: 0.9549\n"
          ]
        },
        {
          "output_type": "execute_result",
          "data": {
            "text/plain": [
              "<keras.callbacks.History at 0x7ff6b0128ed0>"
            ]
          },
          "metadata": {},
          "execution_count": 23
        }
      ]
    },
    {
      "cell_type": "markdown",
      "metadata": {
        "id": "wno0uNPkFXy6"
      },
      "source": [
        "**Predicting on test data and finding roc auc score**"
      ]
    },
    {
      "cell_type": "code",
      "metadata": {
        "id": "6atcicg1EwUl"
      },
      "source": [
        "prediction = lstmModel.predict(sequence_test_matrix)"
      ],
      "execution_count": 24,
      "outputs": []
    },
    {
      "cell_type": "code",
      "metadata": {
        "id": "5wuU2LqzExy_",
        "colab": {
          "base_uri": "https://localhost:8080/"
        },
        "outputId": "16aa7cd7-744b-4842-9859-2c14359128ff"
      },
      "source": [
        "roc_auc_score(y_test, prediction)"
      ],
      "execution_count": 25,
      "outputs": [
        {
          "output_type": "execute_result",
          "data": {
            "text/plain": [
              "0.95155444343768"
            ]
          },
          "metadata": {},
          "execution_count": 25
        }
      ]
    }
  ]
}